{
  "nbformat": 4,
  "nbformat_minor": 0,
  "metadata": {
    "colab": {
      "name": "Python Fundamentos para Análise de Dados.ipynb",
      "provenance": [],
      "collapsed_sections": [],
      "authorship_tag": "ABX9TyN1iqi6i30a3sfnFyWo5APu",
      "include_colab_link": true
    },
    "kernelspec": {
      "name": "python3",
      "display_name": "Python 3"
    }
  },
  "cells": [
    {
      "cell_type": "markdown",
      "metadata": {
        "id": "view-in-github",
        "colab_type": "text"
      },
      "source": [
        "<a href=\"https://colab.research.google.com/github/Yundula/Visualizacao_de_dados/blob/main/Python_Fundamentos_para_An%C3%A1lise_de_Dados.ipynb\" target=\"_parent\"><img src=\"https://colab.research.google.com/assets/colab-badge.svg\" alt=\"Open In Colab\"/></a>"
      ]
    },
    {
      "cell_type": "markdown",
      "metadata": {
        "id": "9uYn2Ygf4iae"
      },
      "source": [
        ""
      ]
    },
    {
      "cell_type": "markdown",
      "metadata": {
        "id": "kjPafzQK4kyY"
      },
      "source": [
        "***ESTRUTURAS DE REPETIÇÃO***"
      ]
    },
    {
      "cell_type": "code",
      "metadata": {
        "id": "6rLZNT7UQeut"
      },
      "source": [
        "#LISTAS\n",
        "lista1=[1, 5, 7, 3, 6, 0]\n",
        "lista2=[]\n",
        "\n",
        "for elementos in lista1:\n",
        "      lista2.append(elementos)\n",
        "\n",
        "print(lista2)\n",
        "\n",
        "#INCLUIR ELEMENTO NA LISTA\n",
        "lista2.append(10)\n",
        "print(lista2)\n",
        "\n",
        "lista2.reverse()\n",
        "print(lista2)\n",
        "\n",
        "lista2.sort()\n",
        "print(lista2)\n",
        "lista2.remove(1)\n",
        "print(lista2)\n",
        "\n",
        "lista2[1]\n",
        "\n"
      ],
      "execution_count": null,
      "outputs": []
    },
    {
      "cell_type": "code",
      "metadata": {
        "id": "LC1kI1q-TnJT"
      },
      "source": [
        "#APLICAÇÃO DE PILHAS\n",
        "\n",
        "TamanhoLista = int(input(\"Informe o tamanho da sua lista: \"))\n",
        "\n",
        "lista = []\n",
        "\n",
        "for i in range(TamanhoLista):\n",
        "    try:\n",
        "      novoEelemento = input(\"Insira o elemento a ser adicionado na lista: \" )\n",
        "      lista.append(novoEelemento)\n",
        "    except:\n",
        "      print(\"Elemento Inválido\")\n",
        "del lista[0]\n",
        "lista.sort()\n",
        "\n",
        "print(\"Tamanho da sua lista foi de\", TamanhoLista , \"e os elementos da sua lista são: \", lista)\n",
        "\n",
        "\n"
      ],
      "execution_count": null,
      "outputs": []
    },
    {
      "cell_type": "code",
      "metadata": {
        "id": "JZ_iSRBo-qsq"
      },
      "source": [
        "#WHILE \n",
        "x = 0\n",
        "\n",
        "while x < 10:\n",
        "    if x == 4:\n",
        "      print(x)\n",
        "      break\n",
        "    else:\n",
        "        pass\n",
        "        print(\"Continua\")\n",
        "        x +=1"
      ],
      "execution_count": null,
      "outputs": []
    },
    {
      "cell_type": "code",
      "metadata": {
        "id": "yFqBFtPPVswf"
      },
      "source": [
        "#pular string\n",
        "\n",
        "for Verificador in \"Python\":\n",
        "  if ((Verificador == \"t\") or (Verificador == \"n\")):\n",
        "      continue\n",
        "  print(Verificador)"
      ],
      "execution_count": null,
      "outputs": []
    },
    {
      "cell_type": "markdown",
      "metadata": {
        "id": "KG6Nu90a4rXu"
      },
      "source": [
        "***FUNÇÕES E MÉTODOS***"
      ]
    },
    {
      "cell_type": "code",
      "metadata": {
        "id": "fZituZe35G1w"
      },
      "source": [
        "def nomeCompleto():\n",
        "    nome1 = input(\"Informe o nome: \")\n",
        "    sobrenome2 = input(\"Informe o sobrenome: \")\n",
        "    Juntos = print(\"%s %s da Silva João\" %(nome1, sobrenome2))\n",
        "\n",
        "nomeCompleto()\n",
        "\n"
      ],
      "execution_count": null,
      "outputs": []
    },
    {
      "cell_type": "markdown",
      "metadata": {
        "id": "iqQGrBls78OW"
      },
      "source": [
        "***TESTE PARA DOAÇÃO DE SANGUE***"
      ]
    },
    {
      "cell_type": "code",
      "metadata": {
        "id": "c5RcYSim5pUg",
        "outputId": "77afc978-1276-49ca-a1cc-d14177db1835",
        "colab": {
          "base_uri": "https://localhost:8080/",
          "height": 319
        }
      },
      "source": [
        "import os  \n",
        "\n",
        "#Função para coletar nome do doador\n",
        "def nomeDoador():\n",
        "    nome = input(\"Por favor, informe seu nome: \")\n",
        "    return print (\"Muito obrigado %s\\n\" %(nome))\n",
        "\n",
        "\n",
        "\"\"\"Validação para doar sangue\n",
        "def cabecalho():\n",
        "    print (\"--------------------- ATENÇÃO ---------------------\\n\")\n",
        "    print (\"É OBRIGATÓRIO RESPONDER AS PERGUNTAS ABAIXO PARA DAR SEQUENCIA\\n\")\n",
        "    print (\"RESPONDA: 'SIM' CASO TENHA OU 'NÃO' CASO NÃO TENHA\")\n",
        "\n",
        "#Perguntas \n",
        "def perguntas():\n",
        "      req1 = input(\"Qual seu gênero?  M para Masculino e F para Feminino: \")\n",
        "      while ((req1 != \"M\") or (req1 != \"m\") or (req1 != \"F\") or (req1 != \"f\")):\n",
        "            print(\"Entrada Inválida, você digitou (%s) e não faz parte das entradas, por favor tente novamente...\\n\" %(req1))\n",
        "            break\n",
        "      else:     \n",
        "        if ((req1 == \"F\") or (req1==\"f\")):\n",
        "          req2 = input(\"O seu período pós-gravidez é de 90 dias para parto normal e 180 dias para cesariana?: \")\n",
        "            \n",
        "\n",
        "perguntas()\"\"\"\n",
        "\n",
        "\n",
        "#Tipos de grupos sanguineos\n",
        "def gruposSanguineos():\n",
        "    print (\"--------------------- GRUPOS SANGUINEOS ---------------------\\n\")\n",
        "    print(\"\\t\\t\\t1-- A+\")\n",
        "    print(\"\\t\\t\\t2-- A-\")\n",
        "    print(\"\\t\\t\\t3-- B+\")\n",
        "    print(\"\\t\\t\\t4-- B-\")\n",
        "    print(\"\\t\\t\\t5-- AB+\")\n",
        "    print(\"\\t\\t\\t6-- AB-\")\n",
        "    print(\"\\t\\t\\t7-- O+\")\n",
        "    print(\"\\t\\t\\t8-- O-\\n\")\n",
        "\n",
        "#Inserindo o Grupo Sanguineo\n",
        "def grupoDoador():\n",
        "        doador = int(input(\"\\t\\tDigite o número que representa o seu Grupo Sanguineo\\n: \"))\n",
        "#       if ((doador > 8) and (doador < 1)):\n",
        "#           print(\"Você digitou %s, tipo inválido\" %(doador))\n",
        "#       else:\n",
        "        #print(doador)\n",
        "        return doador\n",
        "\n",
        "#Combinações de Grupos Sanguineos\n",
        "def combicacoes():\n",
        "#  try:\n",
        "    if grupoDoador == 1:\n",
        "        print(\"Seu Grupo Sanguíneo é A+\")\n",
        "        print(\"Pode doar para: A+ e AB+\")\n",
        "        print(\"Pode receber de: A+, A-, O+, O-\")\n",
        "        os.system('pause') \n",
        "    elif grupoDoador() == 2:\n",
        "        print(\"Seu Grupo Sanguíneo é A-\")\n",
        "        print(\"Pode doar para: A+, A-, AB+, AB-\")\n",
        "        print(\"Pode receber de: A-, O-\")\n",
        "    elif grupoDoador() == 3:\n",
        "        print(\"Seu Grupo Sanguíneo é B+\")\n",
        "        print(\"Pode doar para: B+ e AB+\")\n",
        "        print(\"Pode receber de: B+, B-, O+, O-\")\n",
        "    elif grupoDoador() == 4:\n",
        "        print(\"Seu Grupo Sanguíneo é B-\")\n",
        "        print(\"Pode doar para: B+, B-, AB+, AB-\")\n",
        "        print(\"Pode receber de: B-, O-\")\n",
        "    elif grupoDoador() == 5:\n",
        "        print(\"Seu Grupo Sanguíneo é AB+\")\n",
        "        print(\"Pode doar para: AB+\")\n",
        "        print(\"Pode receber de: Todos os tipos\")\n",
        "    elif grupoDoador() == 6:\n",
        "        print(\"Seu Grupo Sanguíneo é AB-\")\n",
        "        print(\"Pode doar para: AB+, AB-\")\n",
        "        print(\"Pode receber de: A-, B-, AB-, O-\")\n",
        "    elif grupoDoador() == 7:\n",
        "        print(\"Seu Grupo Sanguíneo é O+\")\n",
        "        print(\"Pode doar para: A+, B+, AB+, O+\")\n",
        "        print(\"Pode receber de: O+, O-\")\n",
        "    elif grupoDoador() == 8:\n",
        "        print(\"Seu Grupo Sanguíneo é O-\")\n",
        "        print(\"Pode doar para: Todos os tipos\")\n",
        "        print(\"Pode receber de: O-\")\n",
        "    else:\n",
        "        print(\"ENTRADA INVÁLIDA!!!\")\n",
        "# except:\n",
        "#      print(\"ERRO, VOCÊ DIGITOU DE ENTRADA NA ESCOLHA DO GRUPO SANGUÍNEO \")\n",
        "\n",
        "\n",
        "nomeDoador()\n",
        "gruposSanguineos()\n",
        "grupoDoador()\n",
        "#combicacoes()\n"
      ],
      "execution_count": null,
      "outputs": [
        {
          "output_type": "stream",
          "text": [
            "Por favor, informe seu nome: Yundula\n",
            "Muito obrigado Yundula\n",
            "\n",
            "--------------------- GRUPOS SANGUINEOS ---------------------\n",
            "\n",
            "\t\t\t1-- A+\n",
            "\t\t\t2-- A-\n",
            "\t\t\t3-- B+\n",
            "\t\t\t4-- B-\n",
            "\t\t\t5-- AB+\n",
            "\t\t\t6-- AB-\n",
            "\t\t\t7-- O+\n",
            "\t\t\t8-- O-\n",
            "\n",
            "\t\tDigite o número que representa o seu Grupo Sanguineo\n",
            ": 1\n"
          ],
          "name": "stdout"
        },
        {
          "output_type": "execute_result",
          "data": {
            "text/plain": [
              "1"
            ]
          },
          "metadata": {
            "tags": []
          },
          "execution_count": 67
        }
      ]
    },
    {
      "cell_type": "markdown",
      "metadata": {
        "id": "LHvAq0804ocr"
      },
      "source": [
        "**EXPRESSÕES LAMBDA**"
      ]
    },
    {
      "cell_type": "code",
      "metadata": {
        "id": "s6Lrq4P5Z5Pu",
        "outputId": "20d0df0f-6b91-44f0-8535-594ce852073a",
        "colab": {
          "base_uri": "https://localhost:8080/",
          "height": 35
        }
      },
      "source": [
        "Potencia = lambda entrada: entrada**2\n",
        "Potencia\n"
      ],
      "execution_count": null,
      "outputs": [
        {
          "output_type": "execute_result",
          "data": {
            "text/plain": [
              "<function __main__.<lambda>>"
            ]
          },
          "metadata": {
            "tags": []
          },
          "execution_count": 55
        }
      ]
    },
    {
      "cell_type": "code",
      "metadata": {
        "id": "3dAye_9SJZwk"
      },
      "source": [
        "#LER ARQUIVO TEXTO\n",
        "df = open(\"/content/filme.txt\",\"r\")\n",
        "print(df.read())\n",
        "\n",
        "#CONTAR CARACTER\n",
        "print(df.tell())\n",
        "\n",
        "#ABRIR ARQUIVO PARA ESCRITA\n",
        "df = open(\"/content/filme.txt\",\"w\")\n",
        "df.write(\"Site para filmes\\n\")\n",
        "df.close()\n",
        "df = open(\"/content/filme.txt\",\"r\")\n",
        "print(df.read())\n",
        "\n",
        "#ACRESCENTAR LINHAS\n",
        "df = open(\"/content/filme.txt\",\"a\")\n",
        "df.write(\"\\nPirateado\")\n",
        "df.close()\n",
        "df = open(\"/content/filme.txt\",\"r\")\n",
        "print(df.read())\n"
      ],
      "execution_count": null,
      "outputs": []
    },
    {
      "cell_type": "markdown",
      "metadata": {
        "id": "2K7W2bJdzj6R"
      },
      "source": [
        "**AUTOMATIZAR A CRIAÇÃO DE ARQUIVO**"
      ]
    },
    {
      "cell_type": "code",
      "metadata": {
        "id": "uFNDqJCOxDdN"
      },
      "source": [
        "from datetime import datetime, timedelta\n",
        "\n",
        "Agora = datetime.now()\n",
        "\n",
        "#NOME DO ARQUIVO A SER SALVO\n",
        "filename = input(\"Escreva o nome do arquivo: \")\n",
        "\n",
        "#CONCATENANDO O NOME E O TIPO DE ARQUIVO\n",
        "filename = filename + \".txt\"\n",
        "\n",
        "#ABRINDO O ARQUIVO EM MOVO DE ESCRITA\n",
        "arquivo = open(filename,\"w\")\n",
        "\n",
        "#ESCREVENDO CONTEÚDO NO ARQUIVO A SER SALVO\n",
        "arquivo.write(input(\"Escreva o texto a ser gravado no arquivo: \"))\n",
        "\n",
        "#FECHANDO O ARQUIVO\n",
        "arquivo.close()\n",
        "\n",
        "#ABRINDO O ARQUIVO PARA LEITURA\n",
        "arquivo = open(filename,\"r\")\n",
        "\n",
        "#LENDO O CONTEÚDO NO ARQUIVO\n",
        "arquivo.read()\n",
        "\n",
        "print(\"Criando o arquivo...\\nAquivo \"+ filename+ \" criado com sucesso\")\n",
        "print(AgoraFull)\n",
        "\n",
        "\n"
      ],
      "execution_count": null,
      "outputs": []
    },
    {
      "cell_type": "markdown",
      "metadata": {
        "id": "rjy8fO7kgnsg"
      },
      "source": [
        "**MANIPULANDO ARQUIVOS JSON**"
      ]
    },
    {
      "cell_type": "code",
      "metadata": {
        "id": "TN3c9t2MgutB"
      },
      "source": [
        "import json\n",
        "\n",
        "#CRIANDO UM DICIONARIO\n",
        "dict = {\"nome\": \"Yundula Sebastião\",\n",
        "        \"linguagem\": \"Pyhton\",\n",
        "        \"formação\": [\"Ciencia da Computação\", \"Cientista de Dados\", \"Big Data\"],\n",
        "        \"usuarios\": 100000}\n",
        "\n",
        "#IMPRIMINDO DICIONÁRIO\n",
        "#for k,v in dict.items():\n",
        " #   print(k,v)\n",
        "\n",
        "#CONVERTER O DICIONÁRIO PARA UM OBJETO JSON\n",
        "json.dumps(dict)\n",
        "\n",
        "print(dict[\"nome\"],\n",
        "      dict[\"formação\"])\n",
        "\n"
      ],
      "execution_count": null,
      "outputs": []
    },
    {
      "cell_type": "markdown",
      "metadata": {
        "id": "xf18cZSmnrw6"
      },
      "source": [
        "**BUSCANDO ARQUIVO JSON NA INTERNET**"
      ]
    },
    {
      "cell_type": "code",
      "metadata": {
        "id": "WNeBWtu-n2I9"
      },
      "source": [
        "from urllib.request import urlopen\n",
        "\n",
        "response = urlopen(\"http://vimeo.com/api/v2/video/577331.json\").read().decode(\"utf8\")\n",
        "data = json.loads(response)[0]"
      ],
      "execution_count": null,
      "outputs": []
    },
    {
      "cell_type": "markdown",
      "metadata": {
        "id": "8WYRzExdElHE"
      },
      "source": [
        "**FUNÇÃO MAP**"
      ]
    },
    {
      "cell_type": "code",
      "metadata": {
        "id": "GRAvnpukEqIx",
        "outputId": "c6cd38f6-606f-4b1f-8824-5b30987f1c93",
        "colab": {
          "base_uri": "https://localhost:8080/",
          "height": 35
        }
      },
      "source": [
        "# FUNÇÃO 1 - RECEBE UMA TEMPERATURA  COMO PARAMETRO E RETORNA A TEMEPERATURA EM FAHRENHEIT\n",
        "def fahrenheit(T):\n",
        "    return ((float(9)/5)*T + 32)\n",
        "\n",
        "#FUNÇÃO 2 - FAZ O CONTRÁRIO\n",
        "def celsius(T):\n",
        "    return (float(5)/9)*(T-32)\n",
        "\n",
        "temperatura = [0, 22, 40, 100, 36]\n",
        "\n",
        "#USANDO A FUNÇÃO MAP\n",
        "list(map(fahrenheit, temperatura))\n",
        "\n"
      ],
      "execution_count": null,
      "outputs": [
        {
          "output_type": "execute_result",
          "data": {
            "text/plain": [
              "[32.0, 71.6, 104.0, 212.0, 96.8]"
            ]
          },
          "metadata": {
            "tags": []
          },
          "execution_count": 44
        }
      ]
    },
    {
      "cell_type": "markdown",
      "metadata": {
        "id": "kaDvjx2a5ZE2"
      },
      "source": [
        "**FUNÇÃO ENUMERATE**"
      ]
    },
    {
      "cell_type": "code",
      "metadata": {
        "id": "tw4_M3fL5dB1"
      },
      "source": [
        "Seq = [\"a\",\"b\",\"c\",\"d\",\"e\",\"f\"]\n",
        "\n",
        "list(enumerate(Seq))\n",
        "#for indice, valor in enumerate(Seq):\n",
        "#        print(indice, valor)\n",
        "\n",
        "list1 = [print(indice, valor) for indice, valor in list(enumerate(Seq))]"
      ],
      "execution_count": null,
      "outputs": []
    },
    {
      "cell_type": "markdown",
      "metadata": {
        "id": "J-MAp9YvLQmf"
      },
      "source": [
        "**EXCEÇÕES DE ERROS**"
      ]
    },
    {
      "cell_type": "code",
      "metadata": {
        "id": "C0Ag3F4-LVwY",
        "outputId": "6eaba688-c0df-4901-d75a-304b6f1fbe60",
        "colab": {
          "base_uri": "https://localhost:8080/",
          "height": 88
        }
      },
      "source": [
        "def askint():\n",
        "    while True:\n",
        "        try:\n",
        "            valor = int(input(\"Digite um número: \"))\n",
        "        except:\n",
        "            print(\"Você não digitou um número! Digite um número: \")\n",
        "            continue\n",
        "        else:\n",
        "            print(\"Obrigado por digitar um número!\")\n",
        "            break\n",
        "        finally:\n",
        "            print(\"O valor digitado foi %s\" %(valor))\n",
        "            print(\"Fim da Execução!\")\n",
        "        \n",
        "\n",
        "askint()"
      ],
      "execution_count": null,
      "outputs": [
        {
          "output_type": "stream",
          "text": [
            "Digite um número: 2\n",
            "Obrigado por digitar um número!\n",
            "O valor digitado foi 2\n",
            "Fim da Execução!\n"
          ],
          "name": "stdout"
        }
      ]
    },
    {
      "cell_type": "markdown",
      "metadata": {
        "id": "iZFfRRiretA5"
      },
      "source": [
        "**CRIANDO CLASSE \"LIVRO\"**"
      ]
    },
    {
      "cell_type": "code",
      "metadata": {
        "id": "7UTRoDB6EVwa"
      },
      "source": [
        "class Livro():\n",
        "\n",
        "    def __init__(self):\n",
        "        self.titulo = \"O poder do Amanhã\"\n",
        "        self.npaginas = 998889988\n",
        "        print(\"Construtor chamado para criar um objeto desta classe\")\n",
        "    \n",
        "    def imprimir(self):\n",
        "        print(\"Foi criado o livro %s i Nº de páginas %d\" %(self.titulo, self.npaginas))\n",
        "\n",
        "\n"
      ],
      "execution_count": null,
      "outputs": []
    },
    {
      "cell_type": "code",
      "metadata": {
        "id": "p3Y3zSD1gBXz"
      },
      "source": [
        "#Criando uma instância da classe livro\n",
        "Livro1 = Livro()\n",
        "type(Livro1)\n",
        "Livro1.imprimir()"
      ],
      "execution_count": null,
      "outputs": []
    },
    {
      "cell_type": "markdown",
      "metadata": {
        "id": "Wup0QtCYiqSs"
      },
      "source": [
        "**CRIANDO A CLASS LIVRO COM PARÂMETROS**"
      ]
    },
    {
      "cell_type": "code",
      "metadata": {
        "id": "LxWCzXMWf2xw"
      },
      "source": [
        "class Livros():\n",
        "    def __init__(self, titulo, npaginas):\n",
        "        self.titulo = titulo\n",
        "        self.npaginas = npaginas\n",
        "        print(\"Classe criada com sucesso...\")\n",
        "\n",
        "    def imprimir(self, titulo, npaginas):\n",
        "        print(\"Este é o livro %s e tem %d de páginas\" %(self.titulo, self.npaginas))"
      ],
      "execution_count": null,
      "outputs": []
    },
    {
      "cell_type": "code",
      "metadata": {
        "id": "l-Xt6WpYjqUm",
        "outputId": "8c9422a5-c388-497b-96ca-463ae2d29da6",
        "colab": {
          "base_uri": "https://localhost:8080/",
          "height": 52
        }
      },
      "source": [
        "Livros1 = Livros(\"Investidor Inteligênte\", 1000)\n",
        "Livros1.imprimir(\"Matcos\", 90)"
      ],
      "execution_count": null,
      "outputs": [
        {
          "output_type": "stream",
          "text": [
            "Classe criada com sucesso...\n",
            "Este é o livro Investidor Inteligênte e tem 1000 de páginas\n"
          ],
          "name": "stdout"
        }
      ]
    },
    {
      "cell_type": "markdown",
      "metadata": {
        "id": "-KRVk2eJmh6P"
      },
      "source": [
        "**CRIANDO CLASSE CACHORRO**"
      ]
    },
    {
      "cell_type": "code",
      "metadata": {
        "id": "hBQkzY8cmm7z"
      },
      "source": [
        "class cachorro():\n",
        "   def __init__(self, nome, raca, idade, obs):\n",
        "    self.nome = nome\n",
        "    self.raca = raca\n",
        "    self.idade = idade\n",
        "    self.obs = obs\n",
        "    print(\"Novo Cachorro cadastrado com sucesso...\")\n",
        "\n",
        "   def ver(self, nome, raca, idade, obs):\n",
        "    print(\"O nome do novo cachorro é %s, tem %s anos de idade, a raça é %s e as observações são: %s\" %(self.nome, self.idade, self.raca , self.obs))\n"
      ],
      "execution_count": null,
      "outputs": []
    },
    {
      "cell_type": "code",
      "metadata": {
        "id": "C07es_C5na8H"
      },
      "source": [
        "Novocachorro = cachorro(\"Rex\", \"Pastor Alemão\", 9 , \"Não gosta de ração normal, deve ser exportado\")\n",
        "Novocachorro.ver(\"Rex\", \"Pastor Alemão\", 9 , \"Não gosta de ração normal, deve ser exportado\")"
      ],
      "execution_count": null,
      "outputs": []
    },
    {
      "cell_type": "code",
      "metadata": {
        "id": "aW0ujEJbvYyj",
        "outputId": "0fe13c48-e906-4ef0-bee9-d13e8055b3e9",
        "colab": {
          "base_uri": "https://localhost:8080/",
          "height": 35
        }
      },
      "source": [
        "#Verificar se dentro do objeto há um atributo\n",
        "hasattr(Novocachorro, \"nome\")\n",
        "\n",
        "#Verificar se dentro do objeto há um atributo, e alterar o nome do atriburo\n",
        "setattr(Novocachorro, \"nome\", \"Requem\")\n",
        "Novocachorro.nome"
      ],
      "execution_count": null,
      "outputs": [
        {
          "output_type": "execute_result",
          "data": {
            "application/vnd.google.colaboratory.intrinsic+json": {
              "type": "string"
            },
            "text/plain": [
              "'Requem'"
            ]
          },
          "metadata": {
            "tags": []
          },
          "execution_count": 54
        }
      ]
    },
    {
      "cell_type": "markdown",
      "metadata": {
        "id": "Zh_5wCj51MS3"
      },
      "source": [
        "**MÉTODOS**"
      ]
    },
    {
      "cell_type": "code",
      "metadata": {
        "id": "uVGdViv3vYwh"
      },
      "source": [
        "class Circulo():\n",
        "  #valor de PI é constante\n",
        "  pi = 3.14\n",
        "\n",
        "  #quando um objeto desta class for criado, este método sera executado e o valor default do raio será 5\n",
        "  def __init__(self, raio = 5):\n",
        "      self.raio = raio\n",
        "\n",
        "  #este método calcula a área, SELF utiliza os atributos deste mesmo objeto\n",
        "  def area(self):\n",
        "      return (self.raio * self.raio) * Circulo.pi\n",
        "  \n",
        "  #Método para criar um novo raio\n",
        "  def setRaio(self, novo_raio):\n",
        "      self.raio = novo_raio\n",
        "\n",
        "  #método para obter novo raio do circulo\n",
        "  def getRaio(self):\n",
        "      return self.raio\n",
        "\n",
        "  #Impressão da Área\n",
        "  def print(self):\n",
        "    return print(\"O valor da sua área é de :\", Circ.area())\n",
        "\n"
      ],
      "execution_count": null,
      "outputs": []
    },
    {
      "cell_type": "code",
      "metadata": {
        "id": "AWyevuj93LiR"
      },
      "source": [
        "#criando novo objeto. Uma instancia da classe Circulo()\n",
        "Circ = Circulo(8)"
      ],
      "execution_count": null,
      "outputs": []
    },
    {
      "cell_type": "code",
      "metadata": {
        "id": "naOGEjRu3X33",
        "outputId": "762a4c7d-49e4-437e-8356-688b02fe16ba",
        "colab": {
          "base_uri": "https://localhost:8080/",
          "height": 35
        }
      },
      "source": [
        "Circ.getRaio()"
      ],
      "execution_count": null,
      "outputs": [
        {
          "output_type": "execute_result",
          "data": {
            "text/plain": [
              "8"
            ]
          },
          "metadata": {
            "tags": []
          },
          "execution_count": 27
        }
      ]
    },
    {
      "cell_type": "code",
      "metadata": {
        "id": "Tvledw453eyS"
      },
      "source": [
        "Circ.setRaio(3)"
      ],
      "execution_count": null,
      "outputs": []
    },
    {
      "cell_type": "code",
      "metadata": {
        "id": "kmnb62q452OA",
        "outputId": "3580691c-2b33-44da-8ded-64798c08fa66",
        "colab": {
          "base_uri": "https://localhost:8080/",
          "height": 35
        }
      },
      "source": [
        "Circ.area()"
      ],
      "execution_count": null,
      "outputs": [
        {
          "output_type": "execute_result",
          "data": {
            "text/plain": [
              "28.26"
            ]
          },
          "metadata": {
            "tags": []
          },
          "execution_count": 29
        }
      ]
    },
    {
      "cell_type": "code",
      "metadata": {
        "id": "gF-m-K9C557Y",
        "outputId": "8e204be0-a557-4a94-eb47-f7f5a37af6b4",
        "colab": {
          "base_uri": "https://localhost:8080/",
          "height": 35
        }
      },
      "source": [
        "Circ.print()"
      ],
      "execution_count": null,
      "outputs": [
        {
          "output_type": "stream",
          "text": [
            "O valor da sua área é de : 28.26\n"
          ],
          "name": "stdout"
        }
      ]
    },
    {
      "cell_type": "markdown",
      "metadata": {
        "id": "916w95h2-UxY"
      },
      "source": [
        "**HERANÇA**"
      ]
    },
    {
      "cell_type": "code",
      "metadata": {
        "id": "uY0Z_ePN-YiL"
      },
      "source": [
        "#Criando classe Animal - Super Class\n",
        "class Animal():\n",
        "\n",
        "    def __init__(self, cor = \"Preto\", familia = \"Mamífero\"):\n",
        "        self.cor = cor\n",
        "        print(\"Animal Criado\")\n",
        "\n",
        "    def identificacao(self):\n",
        "       print(\"Animal\")\n",
        "\n",
        "    def comer(self):\n",
        "        print(\"Comendo\")\n",
        "\n",
        "    def setCor(self, nova_cor):\n",
        "        self.cor = nova_cor  \n",
        "\n",
        "    def getCor(self):\n",
        "        return self.cor\n",
        "\n",
        "    def setFamilia(self, nova_familia):\n",
        "        self.familia = nova_familia\n",
        "\n",
        "    def getFamilia(self):\n",
        "        return self.familia"
      ],
      "execution_count": null,
      "outputs": []
    },
    {
      "cell_type": "code",
      "metadata": {
        "id": "5uc5qBAs-uDQ"
      },
      "source": [
        "#Criando Class Cachorro - Sub Classe\n",
        "class Cachorro(Animal):\n",
        "\n",
        "    def __init__(self, nome):\n",
        "        Animal.__init__(self)\n",
        "        print(\"Objeto criado\")\n",
        "\n",
        "    def identificacao(self):\n",
        "        print(\"Cachorro\")\n",
        "\n",
        "    def setNome(self, nome):\n",
        "        self.nome = nome\n",
        "\n",
        "    def getNome(self):\n",
        "        return self.nome\n",
        "\n",
        "    def latir(self):\n",
        "        print(\"Au, Au!\")\n",
        "    \n",
        "    def impressao(self):\n",
        "        return print(\"Nome do seu cachorro é\", Cachorro.getNome())"
      ],
      "execution_count": null,
      "outputs": []
    },
    {
      "cell_type": "code",
      "metadata": {
        "id": "_gupUrrr__gy",
        "outputId": "828c0b15-2de3-4fd0-eff6-cd8d4c360bdd",
        "colab": {
          "base_uri": "https://localhost:8080/",
          "height": 52
        }
      },
      "source": [
        "Novo = Cachorro(\"Luci\")"
      ],
      "execution_count": null,
      "outputs": [
        {
          "output_type": "stream",
          "text": [
            "Animal Criado\n",
            "Objeto criado\n"
          ],
          "name": "stdout"
        }
      ]
    },
    {
      "cell_type": "code",
      "metadata": {
        "id": "EKmYJtb1BDC-",
        "outputId": "cbe316ca-9665-4590-aea2-c10ea2bc6c5f",
        "colab": {
          "base_uri": "https://localhost:8080/",
          "height": 256
        }
      },
      "source": [
        "Novo.impressao()"
      ],
      "execution_count": null,
      "outputs": [
        {
          "output_type": "error",
          "ename": "TypeError",
          "evalue": "ignored",
          "traceback": [
            "\u001b[0;31m---------------------------------------------------------------------------\u001b[0m",
            "\u001b[0;31mTypeError\u001b[0m                                 Traceback (most recent call last)",
            "\u001b[0;32m<ipython-input-146-a72b96cbb792>\u001b[0m in \u001b[0;36m<module>\u001b[0;34m()\u001b[0m\n\u001b[0;32m----> 1\u001b[0;31m \u001b[0mNovo\u001b[0m\u001b[0;34m.\u001b[0m\u001b[0mimpressao\u001b[0m\u001b[0;34m(\u001b[0m\u001b[0;34m)\u001b[0m\u001b[0;34m\u001b[0m\u001b[0;34m\u001b[0m\u001b[0m\n\u001b[0m",
            "\u001b[0;32m<ipython-input-144-0a2dee9cb6f5>\u001b[0m in \u001b[0;36mimpressao\u001b[0;34m(self)\u001b[0m\n\u001b[1;32m     19\u001b[0m \u001b[0;34m\u001b[0m\u001b[0m\n\u001b[1;32m     20\u001b[0m     \u001b[0;32mdef\u001b[0m \u001b[0mimpressao\u001b[0m\u001b[0;34m(\u001b[0m\u001b[0mself\u001b[0m\u001b[0;34m)\u001b[0m\u001b[0;34m:\u001b[0m\u001b[0;34m\u001b[0m\u001b[0;34m\u001b[0m\u001b[0m\n\u001b[0;32m---> 21\u001b[0;31m         \u001b[0;32mreturn\u001b[0m \u001b[0mprint\u001b[0m\u001b[0;34m(\u001b[0m\u001b[0;34m\"Nome do seu cachorro é\"\u001b[0m\u001b[0;34m,\u001b[0m \u001b[0mCachorro\u001b[0m\u001b[0;34m.\u001b[0m\u001b[0mgetNome\u001b[0m\u001b[0;34m(\u001b[0m\u001b[0;34m)\u001b[0m\u001b[0;34m)\u001b[0m\u001b[0;34m\u001b[0m\u001b[0;34m\u001b[0m\u001b[0m\n\u001b[0m",
            "\u001b[0;31mTypeError\u001b[0m: getNome() missing 1 required positional argument: 'self'"
          ]
        }
      ]
    },
    {
      "cell_type": "code",
      "metadata": {
        "id": "3oxtYM34BMPU",
        "outputId": "860da421-810a-4634-f5dc-55b8e7445068",
        "colab": {
          "base_uri": "https://localhost:8080/",
          "height": 292
        }
      },
      "source": [
        "Novo.getNome()"
      ],
      "execution_count": null,
      "outputs": [
        {
          "output_type": "error",
          "ename": "AttributeError",
          "evalue": "ignored",
          "traceback": [
            "\u001b[0;31m---------------------------------------------------------------------------\u001b[0m",
            "\u001b[0;31mAttributeError\u001b[0m                            Traceback (most recent call last)",
            "\u001b[0;32m<ipython-input-121-e9e1ec8d517e>\u001b[0m in \u001b[0;36m<module>\u001b[0;34m()\u001b[0m\n\u001b[0;32m----> 1\u001b[0;31m \u001b[0mNovo\u001b[0m\u001b[0;34m.\u001b[0m\u001b[0mgetNome\u001b[0m\u001b[0;34m(\u001b[0m\u001b[0;34m)\u001b[0m\u001b[0;34m\u001b[0m\u001b[0;34m\u001b[0m\u001b[0m\n\u001b[0m",
            "\u001b[0;32m<ipython-input-114-3c284a5f63cd>\u001b[0m in \u001b[0;36mgetNome\u001b[0;34m(self)\u001b[0m\n\u001b[1;32m     13\u001b[0m \u001b[0;34m\u001b[0m\u001b[0m\n\u001b[1;32m     14\u001b[0m     \u001b[0;32mdef\u001b[0m \u001b[0mgetNome\u001b[0m\u001b[0;34m(\u001b[0m\u001b[0mself\u001b[0m\u001b[0;34m)\u001b[0m\u001b[0;34m:\u001b[0m\u001b[0;34m\u001b[0m\u001b[0;34m\u001b[0m\u001b[0m\n\u001b[0;32m---> 15\u001b[0;31m         \u001b[0;32mreturn\u001b[0m \u001b[0mself\u001b[0m\u001b[0;34m.\u001b[0m\u001b[0mnome\u001b[0m\u001b[0;34m\u001b[0m\u001b[0;34m\u001b[0m\u001b[0m\n\u001b[0m\u001b[1;32m     16\u001b[0m \u001b[0;34m\u001b[0m\u001b[0m\n\u001b[1;32m     17\u001b[0m     \u001b[0;32mdef\u001b[0m \u001b[0mlatir\u001b[0m\u001b[0;34m(\u001b[0m\u001b[0mself\u001b[0m\u001b[0;34m)\u001b[0m\u001b[0;34m:\u001b[0m\u001b[0;34m\u001b[0m\u001b[0;34m\u001b[0m\u001b[0m\n",
            "\u001b[0;31mAttributeError\u001b[0m: 'Cachorro' object has no attribute 'nome'"
          ]
        }
      ]
    },
    {
      "cell_type": "code",
      "metadata": {
        "id": "xVbOKLQTIN3u"
      },
      "source": [
        ""
      ],
      "execution_count": null,
      "outputs": []
    }
  ]
}